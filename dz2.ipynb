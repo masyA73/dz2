{
 "cells": [
  {
   "cell_type": "markdown",
   "metadata": {},
   "source": [
    "### Задание 1"
   ]
  },
  {
   "cell_type": "code",
   "execution_count": 7,
   "metadata": {},
   "outputs": [
    {
     "name": "stdout",
     "output_type": "stream",
     "text": [
      "Введите слово test\n",
      "es\n"
     ]
    }
   ],
   "source": [
    "word = input('Введите слово ')\n",
    "lenword = len(word)\n",
    "word_str = lenword / 2\n",
    "if lenword % 2 == 0:\n",
    "    print(word[int(word_str)-1:int(word_str)+1])\n",
    "elif lenword % 2 != 0:\n",
    "    print(word[int(word_str)])  "
   ]
  },
  {
   "cell_type": "code",
   "execution_count": 34,
   "metadata": {},
   "outputs": [
    {
     "name": "stdout",
     "output_type": "stream",
     "text": [
      "Введите слово testing\n",
      "t\n"
     ]
    }
   ],
   "source": [
    "word = input('Введите слово ')\n",
    "lenword = len(word)\n",
    "word_str = lenword / 2\n",
    "if lenword % 2 == 0:\n",
    "    print(word[int(word_str)-1:int(word_str)+1])\n",
    "elif lenword % 2 != 0:\n",
    "    print(word[int(word_str)])  "
   ]
  },
  {
   "cell_type": "markdown",
   "metadata": {},
   "source": [
    "### Задание 2"
   ]
  },
  {
   "cell_type": "code",
   "execution_count": 6,
   "metadata": {},
   "outputs": [
    {
     "name": "stdout",
     "output_type": "stream",
     "text": [
      "Введите целое число 1\n",
      "4\n",
      "6\n",
      "0\n",
      "11\n"
     ]
    }
   ],
   "source": [
    "random_num = int(input('Введите целое число '))\n",
    "sum = 0\n",
    "while random_num != 0:\n",
    "    sum += random_num\n",
    "    random_num = int(input())\n",
    " \n",
    "print(sum)\n"
   ]
  },
  {
   "cell_type": "markdown",
   "metadata": {},
   "source": [
    "### Задание 3"
   ]
  },
  {
   "cell_type": "code",
   "execution_count": 12,
   "metadata": {},
   "outputs": [
    {
     "name": "stdout",
     "output_type": "stream",
     "text": [
      "Alex и Emma\n",
      "Arthur и Kate\n",
      "John и Kira\n",
      "Peter и Liza\n",
      "Richard и Trisha\n"
     ]
    }
   ],
   "source": [
    "boys = ['Peter', 'Alex', 'John', 'Arthur', 'Richard']\n",
    "girls = ['Kate', 'Liza', 'Kira', 'Emma', 'Trisha']\n",
    "if len(boys) == len(girls):\n",
    "    boys_and_girls = zip(boys, girls)\n",
    "    for boy, girl in zip(sorted(boys), sorted(girls)):\n",
    "        print(f\"{boy} и {girl}\")\n",
    "else:\n",
    "    print('Внимание, кто-то может остаться без пары!')\n"
   ]
  },
  {
   "cell_type": "code",
   "execution_count": 13,
   "metadata": {},
   "outputs": [
    {
     "name": "stdout",
     "output_type": "stream",
     "text": [
      "Внимание, кто-то может остаться без пары!\n"
     ]
    }
   ],
   "source": [
    "boys = ['Peter', 'Alex', 'John', 'Arthur', 'Richard','Michael']\n",
    "girls = ['Kate', 'Liza', 'Kira', 'Emma', 'Trisha']\n",
    "if len(boys) == len(girls):\n",
    "    boys_and_girls = zip(boys, girls)\n",
    "    for boy, girl in zip(sorted(boys), sorted(girls)):\n",
    "        print(f\"{boy} и {girl}\")\n",
    "else:\n",
    "    print('Внимание, кто-то может остаться без пары!')"
   ]
  },
  {
   "cell_type": "markdown",
   "metadata": {},
   "source": [
    "### Задание 4"
   ]
  },
  {
   "cell_type": "code",
   "execution_count": 30,
   "metadata": {},
   "outputs": [
    {
     "name": "stdout",
     "output_type": "stream",
     "text": [
      "Средняя температура в странах\n",
      " Thailand - 23.9 C\n",
      " Germany - 13.8 C\n",
      " Russia - 3.7 C\n",
      " Poland - 12.0 C\n"
     ]
    }
   ],
   "source": [
    "countries_temperature = [\n",
    "['Thailand', [75.2, 77, 78.8, 73.4, 68, 75.2, 77]],\n",
    "['Germany', [57.2, 55.4, 59, 59, 53.6]],\n",
    "['Russia', [35.6, 37.4, 39.2, 41, 42.8, 39.2, 35.6]],\n",
    "['Poland', [50, 50, 53.6, 57.2, 55.4, 55.4]]\n",
    "]\n",
    "print('Средняя температура в странах')\n",
    "for country in countries_temperature:\n",
    "    for temp in country[1]:\n",
    "        count = len(country[1])\n",
    "        av_temp_F = sum(country[1]) / count\n",
    "        av_temp_C = (av_temp_F -32) / 1.8\n",
    "        print(f' {country[0]} - {round(av_temp_C, 1)} C')\n",
    "        break\n",
    "    "
   ]
  },
  {
   "cell_type": "code",
   "execution_count": 31,
   "metadata": {},
   "outputs": [],
   "source": [
    "### Олег, добрый день.  Смотрю я на свою группу и понимаю, что я далеко в хвосте.\n",
    "### Если им требуется на решение подобных задач  пару минут, то я решал это часами, причем иной раз методом \"тыка\", сверяясь с видеоуроками/ учебниками. Причем я неимоверно рад, что удалось  эту банальщину решить=)\n",
    "### Я понимаю, что мне оч тяжело.... Вы могли бы посоветовать некую методику для подобных студентов как я? Есть ли у вас некий сборник задач(с ответами)  дабы я мог набить руку?\n",
    "\n"
   ]
  },
  {
   "cell_type": "code",
   "execution_count": null,
   "metadata": {},
   "outputs": [],
   "source": []
  }
 ],
 "metadata": {
  "kernelspec": {
   "display_name": "Python 3",
   "language": "python",
   "name": "python3"
  },
  "language_info": {
   "codemirror_mode": {
    "name": "ipython",
    "version": 3
   },
   "file_extension": ".py",
   "mimetype": "text/x-python",
   "name": "python",
   "nbconvert_exporter": "python",
   "pygments_lexer": "ipython3",
   "version": "3.8.3"
  }
 },
 "nbformat": 4,
 "nbformat_minor": 4
}
